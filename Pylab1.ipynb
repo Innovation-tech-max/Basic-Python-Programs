{
  "nbformat": 4,
  "nbformat_minor": 0,
  "metadata": {
    "colab": {
      "name": "Pylab1.ipynb",
      "private_outputs": true,
      "provenance": []
    },
    "kernelspec": {
      "name": "python3",
      "display_name": "Python 3"
    },
    "language_info": {
      "name": "python"
    }
  },
  "cells": [
    {
      "cell_type": "markdown",
      "metadata": {
        "id": "EoeXphlRVoeH"
      },
      "source": [
        "# Python program to find the area of a rectangle given that its length is 10 units and breadth is 20 units."
      ]
    },
    {
      "cell_type": "code",
      "metadata": {
        "id": "B1ENqj3pVv5k"
      },
      "source": [
        "length=float(input(\"Type the length:\"))\n",
        "breadth=float(input(\"Type the breadth:\"))\n",
        "area= length * breadth\n",
        "print(\"The area is:\",area)"
      ],
      "execution_count": null,
      "outputs": []
    },
    {
      "cell_type": "markdown",
      "metadata": {
        "id": "g9QT9je8ZjtG"
      },
      "source": [
        "#Python program to find the sum of two numbers."
      ]
    },
    {
      "cell_type": "code",
      "metadata": {
        "id": "ABpsbcD3XbFr"
      },
      "source": [
        "a=int(input())\n",
        "b=int(input())\n",
        "Sum=a+b\n",
        "print(Sum)"
      ],
      "execution_count": null,
      "outputs": []
    },
    {
      "cell_type": "markdown",
      "metadata": {
        "id": "fuypdxKidK_n"
      },
      "source": [
        "# Check the memory address"
      ]
    },
    {
      "cell_type": "code",
      "metadata": {
        "id": "bzieL3I5cq_t"
      },
      "source": [
        "num=29\n",
        "id(num)"
      ],
      "execution_count": null,
      "outputs": []
    },
    {
      "cell_type": "code",
      "metadata": {
        "id": "ZLYyu4CqkTgk"
      },
      "source": [
        "num1= 30-1\n",
        "id(num1)"
      ],
      "execution_count": null,
      "outputs": []
    },
    {
      "cell_type": "markdown",
      "metadata": {
        "id": "-vA41A3w6O1e"
      },
      "source": [
        "# Program of explicit type conversion from int to float."
      ]
    },
    {
      "cell_type": "code",
      "metadata": {
        "id": "hsnzm1zgkgi7"
      },
      "source": [
        "num1= 10\n",
        "num2= 20\n",
        "num3= num1+num2\n",
        "print(num3)\n",
        "print(type(num))\n",
        "num4= float(num1+num2)\n",
        "print(num4)\n",
        "print(type(num4))"
      ],
      "execution_count": null,
      "outputs": []
    },
    {
      "cell_type": "markdown",
      "metadata": {
        "id": "ImS1zuxDCnjt"
      },
      "source": [
        "# Program to check if a number is prime or not. A number that is divisible only by itself and 1."
      ]
    },
    {
      "cell_type": "code",
      "metadata": {
        "id": "_IEYhuhf7vQI"
      },
      "source": [
        "num = int(input(\"Enter a number: \"))\n",
        "flag = False\n",
        "\n",
        "# prime numbers are greater than 1\n",
        "if num > 1:\n",
        "    # check for factors\n",
        "    for i in range(2, num):\n",
        "        if (num % i) == 0:\n",
        "            # if factor is found, set flag to True\n",
        "            flag = True\n",
        "            # break out of loop\n",
        "            break\n",
        "\n",
        "if flag:\n",
        "  print(\"Not Prime\")\n",
        "else:\n",
        "  print(\"Prime\")"
      ],
      "execution_count": null,
      "outputs": []
    },
    {
      "cell_type": "code",
      "metadata": {
        "id": "o0z_-HNdX-KF"
      },
      "source": [
        "num=int(input())\n",
        "if num>1:\n",
        "  if(num%i)==0:\n",
        "    print(\"Prime\")\n",
        "    \n",
        "  else:\n",
        "    print(\"Not Prime\")\n",
        "\n",
        "else:\n",
        "    print(\"Not Prime either\")"
      ],
      "execution_count": null,
      "outputs": []
    },
    {
      "cell_type": "markdown",
      "metadata": {
        "id": "J7Lso7QxhDXS"
      },
      "source": [
        "# Python Program to find factorial of a number."
      ]
    },
    {
      "cell_type": "markdown",
      "metadata": {
        "id": "4_3khfKMm1-T"
      },
      "source": [
        "factorial of n=n*(n-1)*(n-2)*...."
      ]
    },
    {
      "cell_type": "code",
      "metadata": {
        "id": "FthPXXBcYGpm"
      },
      "source": [
        "n=int(input())\n",
        "def factorial(n):\n",
        "  fac=1\n",
        "  for i in range(0,n):\n",
        "    fac*=n-i\n",
        "  print(fac)\n",
        "  "
      ],
      "execution_count": null,
      "outputs": []
    },
    {
      "cell_type": "code",
      "metadata": {
        "id": "LFKRCeZ9od_e"
      },
      "source": [
        "factor(6)"
      ],
      "execution_count": null,
      "outputs": []
    },
    {
      "cell_type": "markdown",
      "metadata": {
        "id": "nfyDe04KqT3m"
      },
      "source": [
        "# Python program to print factors."
      ]
    },
    {
      "cell_type": "code",
      "metadata": {
        "id": "bi-kYKqIohtF"
      },
      "source": [
        "def fac(n):\n",
        "  for i in range(1,n+1):\n",
        "    if(n%i)==0:\n",
        "      print(i)"
      ],
      "execution_count": null,
      "outputs": []
    },
    {
      "cell_type": "code",
      "metadata": {
        "id": "NfHJYQ8OsxHV"
      },
      "source": [
        "fac(5)"
      ],
      "execution_count": null,
      "outputs": []
    },
    {
      "cell_type": "code",
      "metadata": {
        "id": "bpx_-SrvszL_"
      },
      "source": [
        "fac(6)"
      ],
      "execution_count": null,
      "outputs": []
    },
    {
      "cell_type": "markdown",
      "metadata": {
        "id": "7O80mqzYtQ6K"
      },
      "source": [
        "# Python Program to print all the prime numbers in an interval."
      ]
    },
    {
      "cell_type": "code",
      "metadata": {
        "id": "Qj6LuW6Ms1bQ"
      },
      "source": [
        "def factinterval(lower,upper):\n",
        "\n",
        "  for num in range(lower, upper + 1):\n",
        "    # all prime numbers are greater than 1\n",
        "    if num > 1:\n",
        "        for i in range(2, num):\n",
        "            if (num % i) == 0:\n",
        "                break\n",
        "        else:\n",
        "            print(num)\n",
        "  return"
      ],
      "execution_count": null,
      "outputs": []
    },
    {
      "cell_type": "code",
      "metadata": {
        "id": "OTGXjnVWv47F"
      },
      "source": [
        "factinterval(2,5)"
      ],
      "execution_count": null,
      "outputs": []
    },
    {
      "cell_type": "markdown",
      "metadata": {
        "id": "OfA6WaQqH5XB"
      },
      "source": [
        "#Python program to find Armstrong Number in an interval."
      ]
    },
    {
      "cell_type": "markdown",
      "metadata": {
        "id": "D1aspce7S0ar"
      },
      "source": [
        "Armstrong number is a number that is equal to the sum of cubes of its digits. For example 0, 1, 153, 370, 371 and 407 are the Armstrong numbers."
      ]
    },
    {
      "cell_type": "code",
      "metadata": {
        "id": "YP67txM2wDTg"
      },
      "source": [
        "def arm(n):\n",
        "  sum=0\n",
        "  digit=0\n",
        "  temp=n\n",
        "  order=len(str(n))\n",
        "\n",
        "  while n>0:\n",
        "    digit=n%10\n",
        "    sum+=digit**order\n",
        "    n=n//10\n",
        "\n",
        "  if sum==temp:\n",
        "    print(\"Yes, the number is Armstrong number.\")\n",
        "  else:\n",
        "    print(\"No!\")\n",
        "\n",
        "#driver\n",
        "n=int(input())\n",
        "arm(n)"
      ],
      "execution_count": null,
      "outputs": []
    },
    {
      "cell_type": "markdown",
      "metadata": {
        "id": "QP7haBcNBLfi"
      },
      "source": [
        "# Python Program to Find the Square Root."
      ]
    },
    {
      "cell_type": "code",
      "metadata": {
        "id": "glzd172hYMVA"
      },
      "source": [
        "def Squareroot(n):\n",
        "  if n>1:\n",
        "    sq=n**0.5\n",
        "    print(\"Square root is:\",sq)\n",
        "  else:\n",
        "    print(\"Square root is:\",n)\n",
        "\n",
        "n=int(input())\n",
        "Squareroot(n)"
      ],
      "execution_count": null,
      "outputs": []
    },
    {
      "cell_type": "markdown",
      "metadata": {
        "id": "EjYVVfqnDiG8"
      },
      "source": [
        "For real or complex numbers"
      ]
    },
    {
      "cell_type": "code",
      "metadata": {
        "id": "Nib8XthzYTxt"
      },
      "source": [
        "import cmath\n",
        "\n",
        "def Squareroot_c(n):\n",
        "  nsqrt=cmath.sqrt(n)\n",
        "  print(\"The square root for the number is:\",nsqrt)\n",
        "n=eval(input())\n",
        "Squareroot_c(n)"
      ],
      "execution_count": null,
      "outputs": []
    },
    {
      "cell_type": "markdown",
      "metadata": {
        "id": "VZNO5rHwFPPB"
      },
      "source": [
        "# Python Program to Solve Quadratic Equation."
      ]
    },
    {
      "cell_type": "code",
      "metadata": {
        "id": "BhHwWWi6EOUN"
      },
      "source": [
        "import cmath\n",
        "def solve(a,b,c):\n",
        "  dis=b*b-4*a*c\n",
        "  sqrt_val=cmath.sqrt(abs(dis))\n",
        "\n",
        "  if dis>0:\n",
        "    print(\" real and different roots \") \n",
        "    print((-b + sqrt_val)/(2 * a)) \n",
        "    print((-b - sqrt_val)/(2 * a)) \n",
        "      \n",
        "  elif dis == 0: \n",
        "    print(\" real and same roots\") \n",
        "    print(-b / (2 * a)) \n",
        "      \n",
        "   \n",
        "  else:\n",
        "    print(\"Complex Roots\") \n",
        "    print(- b / (2 * a), \" + i\", sqrt_val) \n",
        "    print(- b / (2 * a), \" - i\", sqrt_val)\n",
        "\n",
        "#driver\n",
        "a=int(input())\n",
        "b=int(input())\n",
        "c=int(input())\n",
        "solve(a,b,c)"
      ],
      "execution_count": null,
      "outputs": []
    }
  ]
}